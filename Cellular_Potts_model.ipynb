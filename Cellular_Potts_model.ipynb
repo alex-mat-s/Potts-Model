{
 "cells": [
  {
   "cell_type": "markdown",
   "id": "1fd163c5",
   "metadata": {},
   "source": [
    "### Ising model\n",
    "Theory and implementation:\n",
    "http://www.bdhammel.com/ising-model/\n",
    "\n",
    "Implementation: only random initial state"
   ]
  },
  {
   "cell_type": "markdown",
   "id": "80d7e5b1",
   "metadata": {},
   "source": [
    "### Cellular Potts model\n",
    "\n",
    "Number of states: 3"
   ]
  },
  {
   "cell_type": "code",
   "execution_count": 111,
   "id": "ab1357c8",
   "metadata": {},
   "outputs": [],
   "source": [
    "import numpy as np\n",
    "import pandas as pd\n",
    "import matplotlib\n",
    "import matplotlib.pyplot as plt\n",
    "from numpy import genfromtxt\n",
    "from IPython.display import clear_output\n",
    "from numpy.random import RandomState\n",
    "from tqdm import tqdm"
   ]
  },
  {
   "cell_type": "code",
   "execution_count": 2,
   "id": "d54d4d9e",
   "metadata": {},
   "outputs": [],
   "source": [
    "%matplotlib inline"
   ]
  },
  {
   "cell_type": "markdown",
   "id": "4d59b494",
   "metadata": {},
   "source": [
    "### План:\n",
    "- функция рассчета объема клетки (продумать, как хранить или считать)\n",
    "- дописать рассчет гамильтонинана\n",
    "- настроить выбор нового положения "
   ]
  },
  {
   "cell_type": "code",
   "execution_count": 630,
   "id": "a890306a",
   "metadata": {},
   "outputs": [],
   "source": [
    "class CellularPottsLattice:\n",
    "\n",
    "    def __init__(self, temperature, system, size, interaction, lmbd, target_volume, types_num, cells_id, cells_size):\n",
    "        self.size = size\n",
    "        self.T = temperature\n",
    "        self.system = system\n",
    "        self.J = interaction\n",
    "        self.lmbd = lmbd\n",
    "        self.vt = target_volume\n",
    "        self.types_num = types_num\n",
    "        self.ids = cells_id\n",
    "        self.cells_s = cells_size\n",
    "\n",
    "    @property\n",
    "    def sqr_size(self):\n",
    "        return (self.size, self.size)\n",
    "\n",
    "    \n",
    "    def _build_system(self):\n",
    "        \"\"\"Build the system\n",
    "        Build a randomly distributed system\n",
    "        \"\"\"\n",
    "\n",
    "        system = np.random.choice([0, 1, 2], self.sqr_size)\n",
    "\n",
    "        return system\n",
    "\n",
    "    \n",
    "    def _bc(self, i):\n",
    "        \"\"\"Apply periodic boundary condition\n",
    "        Check if a lattice site coordinate falls out of bounds. If it does,\n",
    "        apply periodic boundary condition\n",
    "        Assumes lattice is square\n",
    "        Parameters\n",
    "        ----------\n",
    "        i : int\n",
    "            lattice site coordinate\n",
    "        Return\n",
    "        ------\n",
    "        int\n",
    "            corrected lattice site coordinate\n",
    "        \"\"\"\n",
    "        if i >= self.size:\n",
    "            return 0\n",
    "        if i < 0:\n",
    "            return self.size - 1\n",
    "        else:\n",
    "            return i\n",
    "    \n",
    "    \n",
    "    def kronecker(self, spin_1, spin_2):\n",
    "        '''Kronecker's delta. \n",
    "        1 if spin_1 == spin_2, 0 otherwise\n",
    "        '''\n",
    "        \n",
    "        return float(spin_1 == spin_2)\n",
    "    \n",
    "    \n",
    "    def volume(self, cell_id):\n",
    "        n = 0\n",
    "        for i in range(self.size):\n",
    "            for j in range(self.size):\n",
    "                if self.system[i, j] == cell_id:\n",
    "                    n += 1\n",
    "        return n\n",
    "    \n",
    "    \n",
    "    def energy(self, N, M, E, ids):\n",
    "        \n",
    "        \"\"\"Hamiltonian. Calculate the energy of spin interaction at a given lattice site\n",
    "             \n",
    "        Parameters\n",
    "        ----------\n",
    "        N : int\n",
    "            lattice site coordinate\n",
    "        M : int\n",
    "            lattice site coordinate\n",
    "        E : int\n",
    "            spin\n",
    "        Return\n",
    "        ------\n",
    "        float\n",
    "            energy of the site\n",
    "        \"\"\"\n",
    "        \n",
    "        # neighbors types\n",
    "#         print(N, M)\n",
    "        type_1 = self.system[self._bc(N - 1), M]\n",
    "#         print(f'E-{E+1}')\n",
    "#         print(type_1)\n",
    "        type_2 = self.system[self._bc(N + 1), M]\n",
    "#         print(f'E-{E+1}')\n",
    "#         print(type_2)\n",
    "        type_3 = self.system[N, self._bc(M - 1)]\n",
    "#         print(f'E-{E+1}')\n",
    "#         print(type_3)\n",
    "        type_4 = self.system[N, self._bc(M + 1)]\n",
    "        \n",
    "        energy_1 = self.J[E, type_1] * (1 - self.kronecker(E, self.system[self._bc(N - 1), M]))\n",
    "        energy_2 = self.J[E, type_2] * (1 - self.kronecker(E, self.system[self._bc(N + 1), M]))\n",
    "        energy_3 = self.J[E, type_3] * (1 - self.kronecker(E, self.system[N, self._bc(M - 1)]))\n",
    "        energy_4 = self.J[E, type_4] * (1 - self.kronecker(E, self.system[N, self._bc(M + 1)]))\n",
    "               \n",
    "        # volume calculation  \n",
    "        \n",
    "        # для каждой клетки \n",
    "#         v_i = self.volume(ids)\n",
    "        if self.vt[E] < 0:\n",
    "            teta = 0\n",
    "        else:\n",
    "            teta = 1\n",
    "        for i in range(196):\n",
    "#             a = self.volume(ids)\n",
    "            a = self.cells_s[i]\n",
    "            A = self.vt[E]\n",
    "            energy_volume = teta * self.lmbd * (a - A) ** 2\n",
    "#         energy_volume = teta * self.lmbd * (self.cells_s[int(ids)] - self.vt[E]) ** 2\n",
    "        \n",
    "        \n",
    "           \n",
    "        energy = energy_1 + energy_2 + energy_3 + energy_4 + energy_volume\n",
    "    \n",
    "        return energy\n",
    "    "
   ]
  },
  {
   "cell_type": "code",
   "execution_count": 738,
   "id": "dc8fa8cb",
   "metadata": {},
   "outputs": [],
   "source": [
    "def run(lattice, epochs):\n",
    "    \"\"\"Run the simulation\n",
    "    \"\"\"\n",
    "          \n",
    "#     cmap = matplotlib.cm.Blues\n",
    "    \n",
    "    for epoch in range(epochs):\n",
    "        \n",
    "        # Randomly select a site on the lattice\n",
    "        N, M = np.random.randint(0, lattice.size, 2)\n",
    "        # Current energy of spin\n",
    "        en = lattice.system[N, M]\n",
    "        cell_id = lattice.ids[N, M]\n",
    "        # Calculate energy of a flipped spin (current)\n",
    "        H_current = lattice.energy(N, M, en, cell_id)\n",
    "        \n",
    "        # Update energy of spin\n",
    "        states = [(N-1, M), (N, M+1), (N+1, M), (N, M-1)]\n",
    "        N_M = np.random.choice([0, 1, 2, 3], 1)\n",
    "        N_new, M_new = states[N_M[0]][0], states[N_M[0]][1]\n",
    "        \n",
    "        while N_new == lattice.size or M_new == lattice.size:\n",
    "            N_M = np.random.choice([0, 1, 2, 3], 1)\n",
    "            N_new, M_new = states[N_M[0]][0], states[N_M[0]][1]\n",
    "        \n",
    "        en_updated = lattice.system[N_new, M_new]\n",
    "        cell_id_updated = lattice.ids[N_new, M_new]\n",
    "\n",
    "        H_updated = lattice.energy(N_new, M_new, en_updated, cell_id_updated)\n",
    "                \n",
    "        # Calculate difference between updated and current energy\n",
    "        diff = H_updated - H_current\n",
    "        \n",
    "        if lattice.T > 0:\n",
    "            if diff > 0:\n",
    "                P = np.exp(-diff/lattice.T)\n",
    "            else:\n",
    "                P = 1\n",
    "        elif lattice.T == 0:\n",
    "            if diff > 0:\n",
    "                P = 0\n",
    "            elif diff == 0:\n",
    "                P = 0.5\n",
    "            else:\n",
    "                P = 1\n",
    "#         print(H_updated, H_current, lattice.cells_s[int(cell_id)])        \n",
    "        # New energy accepted with probabiity \n",
    "        if RandomState(424242).uniform() < P:\n",
    "            lattice.system[N, M] = en_updated\n",
    "            lattice.ids[N, M] = cell_id_updated\n",
    "            lattice.cells_s[int(cell_id_updated)] += 1\n",
    "\n",
    "        if epoch % 100 == 0:\n",
    "            plt.figure(figsize=(10,10))\n",
    "            plt.imshow(lattice.ids, interpolation='none', cmap=\"prism_r\")\n",
    "            plt.show()\n",
    "            clear_output(wait=True)"
   ]
  },
  {
   "cell_type": "code",
   "execution_count": 739,
   "id": "7b4b77ab",
   "metadata": {},
   "outputs": [],
   "source": [
    "# set parameters\n",
    "\n",
    "t = 10       # temperature \n",
    "n = 3        # number of types\n",
    "\n",
    "\n",
    "# interaction coefficients\n",
    "J_dd = 2       \n",
    "J_dl = 11\n",
    "J_ll = 14\n",
    "J_dm = J_lm = 16\n",
    "\n",
    "# Lagrange multiplier\n",
    "lmbd = 1\n",
    "\n",
    "# target volume\n",
    "v_t = [25, 25, -1]\n",
    "\n",
    "s = 70     # number of sites (s x s lattice)\n",
    "e = 20000  # number of iterations\n",
    "\n",
    "data = genfromtxt('system.csv', delimiter=';')\n",
    "data = data.astype(int)\n",
    "ids = genfromtxt('ids.csv', delimiter=';')"
   ]
  },
  {
   "cell_type": "code",
   "execution_count": 740,
   "id": "674fb3d6",
   "metadata": {},
   "outputs": [
    {
     "data": {
      "text/plain": [
       "array([[2, 2, 2, ..., 2, 2, 2],\n",
       "       [2, 2, 2, ..., 2, 2, 2],\n",
       "       [2, 2, 2, ..., 2, 2, 2],\n",
       "       ...,\n",
       "       [0, 0, 0, ..., 2, 2, 2],\n",
       "       [0, 0, 0, ..., 2, 2, 2],\n",
       "       [0, 0, 0, ..., 2, 2, 2]])"
      ]
     },
     "execution_count": 740,
     "metadata": {},
     "output_type": "execute_result"
    }
   ],
   "source": [
    "data"
   ]
  },
  {
   "cell_type": "code",
   "execution_count": 741,
   "id": "37a9a8d5",
   "metadata": {},
   "outputs": [
    {
     "data": {
      "text/plain": [
       "array([[  0.,   0.,   0., ...,  13.,  13.,  13.],\n",
       "       [  0.,   0.,   0., ...,  13.,  13.,  13.],\n",
       "       [  0.,   0.,   0., ...,  13.,  13.,  13.],\n",
       "       ...,\n",
       "       [182., 182., 182., ..., 195., 195., 195.],\n",
       "       [182., 182., 182., ..., 195., 195., 195.],\n",
       "       [182., 182., 182., ..., 195., 195., 195.]])"
      ]
     },
     "execution_count": 741,
     "metadata": {},
     "output_type": "execute_result"
    }
   ],
   "source": [
    "ids"
   ]
  },
  {
   "cell_type": "code",
   "execution_count": 742,
   "id": "26a7df7d",
   "metadata": {},
   "outputs": [],
   "source": [
    "# formation of the interaction matrix\n",
    "interaction_matrix = np.zeros(shape=(3,3), dtype=int)\n",
    "\n",
    "# 2 - medium\n",
    "# 1 - dark\n",
    "# 0 - light\n",
    "\n",
    "interaction_matrix[0][0] = J_ll\n",
    "interaction_matrix[0][1] = interaction_matrix[1][0] = J_dl\n",
    "interaction_matrix[1][2] = interaction_matrix[2][1] = J_dm\n",
    "interaction_matrix[0][2] = interaction_matrix[2][0] = J_lm\n",
    "interaction_matrix[2][2] = 0\n",
    "interaction_matrix[1][1] = J_dd"
   ]
  },
  {
   "cell_type": "code",
   "execution_count": 743,
   "id": "c67be862",
   "metadata": {},
   "outputs": [
    {
     "data": {
      "text/plain": [
       "array([[14, 11, 16],\n",
       "       [11,  2, 16],\n",
       "       [16, 16,  0]])"
      ]
     },
     "execution_count": 743,
     "metadata": {},
     "output_type": "execute_result"
    }
   ],
   "source": [
    "interaction_matrix"
   ]
  },
  {
   "cell_type": "code",
   "execution_count": 744,
   "id": "7a04c670",
   "metadata": {},
   "outputs": [
    {
     "data": {
      "text/plain": [
       "25"
      ]
     },
     "execution_count": 744,
     "metadata": {},
     "output_type": "execute_result"
    }
   ],
   "source": [
    "cells_size = [25] * 196\n",
    "cells_size[0]"
   ]
  },
  {
   "cell_type": "code",
   "execution_count": 746,
   "id": "13032410",
   "metadata": {},
   "outputs": [
    {
     "data": {
      "image/png": "[encoded data removed]",
      "text/plain": [
       "<Figure size 720x720 with 1 Axes>"
      ]
     },
     "metadata": {
      "needs_background": "light"
     },
     "output_type": "display_data"
    }
   ],
   "source": [
    "lattice = CellularPottsLattice(\n",
    "        temperature=t, system=data, size=s, interaction=interaction_matrix, lmbd=lmbd, \n",
    "        target_volume=v_t, types_num=types_num, cells_id=ids, cells_size=cells_size\n",
    "    )\n",
    "\n",
    "# plt.figure(figsize=(10,10))\n",
    "# plt.imshow(, interpolation='nearest', cmap=cmap)\n",
    "# plt.show()\n",
    "\n",
    "run(lattice, e)\n",
    "\n",
    "# plt.figure(figsize=(10,10))\n",
    "# plt.imshow(lattice.system, interpolation='nearest', cmap=cmap)\n",
    "# plt.show()"
   ]
  },
  {
   "cell_type": "code",
   "execution_count": null,
   "id": "7f7ddce0",
   "metadata": {},
   "outputs": [],
   "source": []
  },
  {
   "cell_type": "code",
   "execution_count": null,
   "id": "8daaacab",
   "metadata": {},
   "outputs": [],
   "source": []
  }
 ],
 "metadata": {
  "kernelspec": {
   "display_name": "Python 3 (ipykernel)",
   "language": "python",
   "name": "python3"
  },
  "language_info": {
   "codemirror_mode": {
    "name": "ipython",
    "version": 3
   },
   "file_extension": ".py",
   "mimetype": "text/x-python",
   "name": "python",
   "nbconvert_exporter": "python",
   "pygments_lexer": "ipython3",
   "version": "3.8.10"
  }
 },
 "nbformat": 4,
 "nbformat_minor": 5
}
