{
 "cells": [
  {
   "cell_type": "markdown",
   "id": "1fd163c5",
   "metadata": {},
   "source": [
    "### Ising model\n",
    "Theory and implementation:\n",
    "http://www.bdhammel.com/ising-model/\n",
    "\n",
    "Implementation: only random initial state"
   ]
  },
  {
   "cell_type": "markdown",
   "id": "80d7e5b1",
   "metadata": {},
   "source": [
    "### Standard Potts model\n",
    "Theory:\n",
    "https://en.wikipedia.org/wiki/Potts_model\n",
    "\n",
    "Number of states: 3"
   ]
  },
  {
   "cell_type": "code",
   "execution_count": 7,
   "id": "ab1357c8",
   "metadata": {},
   "outputs": [],
   "source": [
    "import numpy as np\n",
    "import matplotlib\n",
    "import matplotlib.pyplot as plt\n",
    "from IPython.display import clear_output\n",
    "from numpy.random import RandomState"
   ]
  },
  {
   "cell_type": "code",
   "execution_count": 8,
   "id": "d54d4d9e",
   "metadata": {},
   "outputs": [],
   "source": [
    "%matplotlib inline"
   ]
  },
  {
   "cell_type": "code",
   "execution_count": 13,
   "id": "a890306a",
   "metadata": {},
   "outputs": [],
   "source": [
    "class PottsLattice:\n",
    "\n",
    "    def __init__(self, temperature, size, interaction):\n",
    "        self.size = size\n",
    "        self.T = temperature\n",
    "        self.system = self._build_system()\n",
    "        self.J = interaction\n",
    "\n",
    "    @property\n",
    "    def sqr_size(self):\n",
    "        return (self.size, self.size)\n",
    "\n",
    "    def _build_system(self):\n",
    "        \"\"\"Build the system\n",
    "        Build a randomly distributed system\n",
    "        \"\"\"\n",
    "\n",
    "        system = np.random.choice([-1, 0, 1], self.sqr_size)\n",
    "\n",
    "        return system\n",
    "\n",
    "    def _bc(self, i):\n",
    "        \"\"\"Apply periodic boundary condition\n",
    "        Check if a lattice site coordinate falls out of bounds. If it does,\n",
    "        apply periodic boundary condition\n",
    "        Assumes lattice is square\n",
    "        Parameters\n",
    "        ----------\n",
    "        i : int\n",
    "            lattice site coordinate\n",
    "        Return\n",
    "        ------\n",
    "        int\n",
    "            corrected lattice site coordinate\n",
    "        \"\"\"\n",
    "        if i >= self.size:\n",
    "            return 0\n",
    "        if i < 0:\n",
    "            return self.size - 1\n",
    "        else:\n",
    "            return i\n",
    "    \n",
    "    def kronecker(self, spin_1, spin_2):\n",
    "        '''Kronecker's delta. \n",
    "        1 if spin_1 == spin_2, 0 otherwise\n",
    "        '''\n",
    "        \n",
    "        return float(spin_1 == spin_2)\n",
    "    \n",
    "    def energy(self, N, M, E):\n",
    "        #!!! В функцию передавать координаты спина и значение его энергии\n",
    "        \n",
    "        \"\"\"Hamiltonian. Calculate the energy of spin interaction at a given lattice site\n",
    "             \n",
    "        Parameters\n",
    "        ----------\n",
    "        N : int\n",
    "            lattice site coordinate\n",
    "        M : int\n",
    "            lattice site coordinate\n",
    "        E : int\n",
    "            spin\n",
    "        Return\n",
    "        ------\n",
    "        float\n",
    "            energy of the site\n",
    "        \"\"\"\n",
    "        \n",
    "        energy = self.kronecker(E, self.system[self._bc(N - 1), M]) \\\n",
    "                 + self.kronecker(E, self.system[self._bc(N + 1), M]) \\\n",
    "                 + self.kronecker(E, self.system[N, self._bc(M - 1)]) \\\n",
    "                 + self.kronecker(E, self.system[N, self._bc(M + 1)]) \\\n",
    "    \n",
    "        return -2 * self.J * energy"
   ]
  },
  {
   "cell_type": "code",
   "execution_count": 14,
   "id": "dc8fa8cb",
   "metadata": {},
   "outputs": [],
   "source": [
    "def run(lattice, epochs):\n",
    "    \"\"\"Run the simulation\n",
    "    \"\"\"\n",
    "          \n",
    "    cmap = matplotlib.cm.Blues\n",
    "    \n",
    "    for epoch in range(epochs):\n",
    "        \n",
    "        # Randomly select a site on the lattice\n",
    "        N, M = np.random.randint(0, lattice.size, 2)\n",
    "        # Current energy of spin\n",
    "        en = lattice.system[N, M]\n",
    "                \n",
    "        # Calculate energy of a flipped spin (current)\n",
    "        H_current = lattice.energy(N, M, en)\n",
    "        \n",
    "        # Update energy of spin\n",
    "        N_new, M_new = np.random.randint(0, lattice.size, 2)\n",
    "        while en == lattice.system[N_new, M_new]:\n",
    "            N_new, M_new = np.random.randint(0, lattice.size, 2)\n",
    "        \n",
    "        en_updated = lattice.system[N_new, M_new]\n",
    "        H_updated = lattice.energy(N, M, en_updated)\n",
    "        \n",
    "        # Calculate difference between updated and current energy\n",
    "        diff = H_updated - H_current\n",
    "\n",
    "        # New energy accepted with probabiity \n",
    "        if diff <= 0 or RandomState(424242).uniform() < np.exp(-diff/lattice.T):\n",
    "            lattice.system[N, M] = en_updated\n",
    "\n",
    "        if epoch % 1000 == 0:\n",
    "            plt.figure(figsize=(10,10))\n",
    "            plt.imshow(lattice.system, interpolation='nearest', cmap=cmap)\n",
    "            plt.show()\n",
    "            clear_output(wait=True)"
   ]
  },
  {
   "cell_type": "code",
   "execution_count": 15,
   "id": "7b4b77ab",
   "metadata": {},
   "outputs": [],
   "source": [
    "# set parameters\n",
    "\n",
    "t = 1        # temperature \n",
    "J = 1        # interaction coefficient\n",
    "h = 1        # magnetization coefficient\n",
    "s = 100      # number of sites (s x s lattice)\n",
    "e = 500000  # number of iterations"
   ]
  },
  {
   "cell_type": "code",
   "execution_count": 16,
   "id": "13032410",
   "metadata": {},
   "outputs": [
    {
     "data": {
      "image/png": "[encoded data removed]",
      "text/plain": [
       "<Figure size 720x720 with 1 Axes>"
      ]
     },
     "metadata": {
      "needs_background": "light"
     },
     "output_type": "display_data"
    }
   ],
   "source": [
    "lattice = PottsLattice(\n",
    "        temperature=t, size=s, interaction=J\n",
    "    )\n",
    "run(lattice, e)"
   ]
  }
 ],
 "metadata": {
  "kernelspec": {
   "display_name": "Python 3 (ipykernel)",
   "language": "python",
   "name": "python3"
  },
  "language_info": {
   "codemirror_mode": {
    "name": "ipython",
    "version": 3
   },
   "file_extension": ".py",
   "mimetype": "text/x-python",
   "name": "python",
   "nbconvert_exporter": "python",
   "pygments_lexer": "ipython3",
   "version": "3.8.10"
  }
 },
 "nbformat": 4,
 "nbformat_minor": 5
}
