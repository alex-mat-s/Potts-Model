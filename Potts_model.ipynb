{
 "cells": [
  {
   "cell_type": "markdown",
   "id": "1fd163c5",
   "metadata": {},
   "source": [
    "### Ising model\n",
    "Theory and implementation:\n",
    "http://www.bdhammel.com/ising-model/\n",
    "\n",
    "Implementation: only random initial state"
   ]
  },
  {
   "cell_type": "markdown",
   "id": "80d7e5b1",
   "metadata": {},
   "source": [
    "### Potts model\n",
    "Theory:\n",
    "https://en.wikipedia.org/wiki/Potts_model\n",
    "\n",
    "Number of states: 3"
   ]
  },
  {
   "cell_type": "code",
   "execution_count": 1,
   "id": "ab1357c8",
   "metadata": {},
   "outputs": [],
   "source": [
    "import numpy as np\n",
    "import matplotlib\n",
    "import matplotlib.pyplot as plt\n",
    "from IPython.display import clear_output"
   ]
  },
  {
   "cell_type": "code",
   "execution_count": 2,
   "id": "d54d4d9e",
   "metadata": {},
   "outputs": [],
   "source": [
    "%matplotlib inline"
   ]
  },
  {
   "cell_type": "code",
   "execution_count": 11,
   "id": "a890306a",
   "metadata": {},
   "outputs": [],
   "source": [
    "class IsingLattice:\n",
    "\n",
    "    def __init__(self, temperature, size):\n",
    "        self.size = size\n",
    "        self.T = temperature\n",
    "        self.system = self._build_system()\n",
    "\n",
    "    @property\n",
    "    def sqr_size(self):\n",
    "        return (self.size, self.size)\n",
    "\n",
    "    def _build_system(self):\n",
    "        \"\"\"Build the system\n",
    "        Build a randomly distributed system\n",
    "        \"\"\"\n",
    "\n",
    "        system = np.random.choice([-1, 1], self.sqr_size)\n",
    "\n",
    "        return system\n",
    "\n",
    "    def _bc(self, i):\n",
    "        \"\"\"Apply periodic boundary condition\n",
    "        Check if a lattice site coordinate falls out of bounds. If it does,\n",
    "        apply periodic boundary condition\n",
    "        Assumes lattice is square\n",
    "        Parameters\n",
    "        ----------\n",
    "        i : int\n",
    "            lattice site coordinate\n",
    "        Return\n",
    "        ------\n",
    "        int\n",
    "            corrected lattice site coordinate\n",
    "        \"\"\"\n",
    "        if i >= self.size:\n",
    "            return 0\n",
    "        if i < 0:\n",
    "            return self.size - 1\n",
    "        else:\n",
    "            return i\n",
    "    \n",
    "    def energy(self, N, M):\n",
    "        \"\"\"Hamiltonian. Calculate the energy of spin interaction at a given lattice site\n",
    "        i.e. the interaction of a Spin at lattice site n,m with its 4 neighbors\n",
    "        - S_n,m*(S_n+1,m + Sn-1,m + S_n,m-1, + S_n,m+1)\n",
    "        \n",
    "        Parameters\n",
    "        ----------\n",
    "        N : int\n",
    "            lattice site coordinate\n",
    "        M : int\n",
    "            lattice site coordinate\n",
    "        Return\n",
    "        ------\n",
    "        float\n",
    "            energy of the site\n",
    "        \"\"\"\n",
    "        return -2*self.system[N, M]*(\n",
    "            self.system[self._bc(N - 1), M] + self.system[self._bc(N + 1), M]\n",
    "            + self.system[N, self._bc(M - 1)] + self.system[N, self._bc(M + 1)]\n",
    "        )\n",
    "\n",
    "    @property\n",
    "    def internal_energy(self):\n",
    "        e = 0\n",
    "        E = 0\n",
    "        E_2 = 0\n",
    "\n",
    "        for i in range(self.size):\n",
    "            for j in range(self.size):\n",
    "                e = self.energy(i, j)\n",
    "                E += e\n",
    "                E_2 += e**2\n",
    "\n",
    "        U = (1./self.size**2)*E\n",
    "        U_2 = (1./self.size**2)*E_2\n",
    "\n",
    "        return U, U_2\n",
    "\n",
    "    @property\n",
    "    def heat_capacity(self):\n",
    "        U, U_2 = self.internal_energy\n",
    "        return U_2 - U**2\n",
    "\n",
    "    @property\n",
    "    def magnetization(self):\n",
    "        \"\"\"Find the overall magnetization of the system\n",
    "        \"\"\"\n",
    "        return np.abs(np.sum(self.system)/self.size**2)"
   ]
  },
  {
   "cell_type": "code",
   "execution_count": 12,
   "id": "dc8fa8cb",
   "metadata": {},
   "outputs": [],
   "source": [
    "def run(lattice, epochs):\n",
    "    \"\"\"Run the simulation\n",
    "    \"\"\"\n",
    "          \n",
    "    cmap = matplotlib.cm.Blues\n",
    "    \n",
    "    for epoch in range(epochs):\n",
    "        \n",
    "        # Randomly select a site on the lattice\n",
    "        N, M = np.random.randint(0, lattice.size, 2)\n",
    "\n",
    "        # Calculate energy of a flipped spin\n",
    "        E = -1*lattice.energy(N, M)\n",
    "\n",
    "        # \"Roll the dice\" to see if the spin is flipped\n",
    "        if E <= 0.:\n",
    "            lattice.system[N, M] *= -1\n",
    "        elif np.exp(-E/lattice.T) > np.random.rand():\n",
    "            lattice.system[N, M] *= -1\n",
    "\n",
    "        if epoch % 1000 == 0:\n",
    "            plt.figure(figsize=(10,10))\n",
    "            plt.imshow(lattice.system, interpolation='nearest', cmap=cmap)\n",
    "            plt.show()\n",
    "            clear_output(wait=True)"
   ]
  },
  {
   "cell_type": "code",
   "execution_count": 13,
   "id": "7b4b77ab",
   "metadata": {},
   "outputs": [],
   "source": [
    "# set parameters\n",
    "\n",
    "t = 1        # temperature \n",
    "s = 150      # number of sites (s x s lattice)\n",
    "e = 1000000  # number of iterations"
   ]
  },
  {
   "cell_type": "code",
   "execution_count": 14,
   "id": "13032410",
   "metadata": {},
   "outputs": [
    {
     "data": {
      "image/png": "[encoded data removed]",
      "text/plain": [
       "<Figure size 720x720 with 1 Axes>"
      ]
     },
     "metadata": {
      "needs_background": "light"
     },
     "output_type": "display_data"
    }
   ],
   "source": [
    "lattice = IsingLattice(\n",
    "        temperature=t, size=s\n",
    "    )\n",
    "run(lattice, e)"
   ]
  },
  {
   "cell_type": "code",
   "execution_count": null,
   "id": "1bc9e187",
   "metadata": {},
   "outputs": [],
   "source": []
  }
 ],
 "metadata": {
  "kernelspec": {
   "display_name": "Python 3 (ipykernel)",
   "language": "python",
   "name": "python3"
  },
  "language_info": {
   "codemirror_mode": {
    "name": "ipython",
    "version": 3
   },
   "file_extension": ".py",
   "mimetype": "text/x-python",
   "name": "python",
   "nbconvert_exporter": "python",
   "pygments_lexer": "ipython3",
   "version": "3.8.10"
  }
 },
 "nbformat": 4,
 "nbformat_minor": 5
}
